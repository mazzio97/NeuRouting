{
 "cells": [
  {
   "cell_type": "code",
   "execution_count": 1,
   "metadata": {},
   "outputs": [
    {
     "name": "stderr",
     "output_type": "stream",
     "text": [
      "/opt/anaconda3/envs/neurouting/lib/python3.10/site-packages/tqdm/auto.py:22: TqdmWarning: IProgress not found. Please update jupyter and ipywidgets. See https://ipywidgets.readthedocs.io/en/stable/user_install.html\n",
      "  from .autonotebook import tqdm as notebook_tqdm\n"
     ]
    }
   ],
   "source": [
    "import sys\n",
    "import os\n",
    "sys.path.append(os.path.join(os.getcwd(), \"../\"))\n",
    "\n",
    "from generators.dataset import NazariDataset\n",
    "from baselines import LKHSolver\n",
    "from time import time\n",
    "from tqdm.auto import tqdm\n",
    "\n",
    "dataset = list(NazariDataset(100, (50, 100), solve=False, workers=5))\n",
    "lkh = LKHSolver(os.path.join(os.getcwd(), \"../../executables/LKH\"))"
   ]
  },
  {
   "cell_type": "code",
   "execution_count": 2,
   "metadata": {},
   "outputs": [
    {
     "name": "stderr",
     "output_type": "stream",
     "text": [
      "100%|██████████| 100/100 [00:18<00:00,  5.41it/s]\n"
     ]
    }
   ],
   "source": [
    "# solve using lkh with 1 pass and 1 run\n",
    "start_t = time()\n",
    "simple_costs = [lkh.solve(s, runs=1, max_steps=1).cost for s in tqdm(dataset)]\n",
    "end_t = time()\n",
    "simple_time = end_t - start_t"
   ]
  },
  {
   "cell_type": "code",
   "execution_count": 3,
   "metadata": {},
   "outputs": [
    {
     "name": "stderr",
     "output_type": "stream",
     "text": [
      "100%|██████████| 100/100 [01:08<00:00,  1.46it/s]\n"
     ]
    }
   ],
   "source": [
    "# solve using 10 steps at most and 1 run\n",
    "start_t = time()\n",
    "ten_costs = [lkh.solve(s, runs=1, max_steps=10).cost for s in tqdm(dataset)]\n",
    "end_t = time()\n",
    "ten_time = end_t - start_t"
   ]
  },
  {
   "cell_type": "code",
   "execution_count": 14,
   "metadata": {},
   "outputs": [
    {
     "name": "stderr",
     "output_type": "stream",
     "text": [
      "100%|██████████| 100/100 [01:04<00:00,  1.55it/s]\n"
     ]
    }
   ],
   "source": [
    "# solve using 10 steps at most and 1 run\n",
    "start_t = time()\n",
    "five_costs = [lkh.solve(s, runs=1, max_steps=5).cost for s in tqdm(dataset)]\n",
    "end_t = time()\n",
    "five_time = end_t - start_t"
   ]
  },
  {
   "cell_type": "code",
   "execution_count": 40,
   "metadata": {},
   "outputs": [
    {
     "name": "stderr",
     "output_type": "stream",
     "text": [
      "100%|██████████| 100/100 [00:23<00:00,  4.24it/s]\n"
     ]
    }
   ],
   "source": [
    "# solve using 10 steps at most and 1 run\n",
    "start_t = time()\n",
    "two_costs = [lkh.solve(s, runs=1, max_steps=2).cost for s in tqdm(dataset)]\n",
    "end_t = time()\n",
    "two_time = end_t - start_t"
   ]
  },
  {
   "cell_type": "code",
   "execution_count": 55,
   "metadata": {},
   "outputs": [
    {
     "name": "stderr",
     "output_type": "stream",
     "text": [
      "100%|██████████| 100/100 [00:29<00:00,  3.38it/s]\n"
     ]
    }
   ],
   "source": [
    "# solve using 10 steps at most and 1 run\n",
    "start_t = time()\n",
    "three_costs = [lkh.solve(s, runs=1, max_steps=3).cost for s in tqdm(dataset)]\n",
    "end_t = time()\n",
    "two_time = end_t - start_t"
   ]
  },
  {
   "cell_type": "code",
   "execution_count": 16,
   "metadata": {},
   "outputs": [
    {
     "name": "stderr",
     "output_type": "stream",
     "text": [
      "100%|██████████| 100/100 [06:16<00:00,  3.77s/it]\n"
     ]
    }
   ],
   "source": [
    "# solve using 10 steps at most and 1 run\n",
    "exact_costs = [lkh.solve(s).cost for s in tqdm(dataset)]"
   ]
  },
  {
   "cell_type": "code",
   "execution_count": 56,
   "metadata": {},
   "outputs": [],
   "source": [
    "import numpy as np\n",
    "\n",
    "simple = np.array(simple_costs)\n",
    "two = np.array(two_costs)\n",
    "three = np.array(three_costs)\n",
    "five = np.array(five_costs)\n",
    "ten = np.array(ten_costs)\n",
    "exact = np.array(exact_costs)\n"
   ]
  },
  {
   "cell_type": "code",
   "execution_count": 58,
   "metadata": {},
   "outputs": [],
   "source": [
    "def perc_diff(a, b):\n",
    "  return (np.abs(a - b) / ((a + b) * 0.5)) * 100"
   ]
  },
  {
   "cell_type": "code",
   "execution_count": 61,
   "metadata": {},
   "outputs": [
    {
     "name": "stdout",
     "output_type": "stream",
     "text": [
      "1 step mean % diff  : 4.336034737487648\n",
      "2 step mean % diff  : 2.975563483522725\n",
      "3 step mean % diff  : 2.655882995823673\n",
      "5 step mean % diff  : 1.3402559598763082\n",
      "10 step mean % diff : 1.3799712802351407\n"
     ]
    }
   ],
   "source": [
    "print(f\"1 step mean % diff  : {perc_diff(exact, simple).mean()}\")\n",
    "print(f\"2 step mean % diff  : {perc_diff(exact, two).mean()}\")\n",
    "print(f\"3 step mean % diff  : {perc_diff(exact, three).mean()}\")\n",
    "print(f\"5 step mean % diff  : {perc_diff(exact, five).mean()}\")\n",
    "print(f\"10 step mean % diff : {perc_diff(exact, ten).mean()}\")"
   ]
  },
  {
   "cell_type": "code",
   "execution_count": 57,
   "metadata": {},
   "outputs": [
    {
     "name": "stdout",
     "output_type": "stream",
     "text": [
      "1 step   MSE: 0.6094552639154002\n",
      "2 steps  MSE: 0.41538235873300505\n",
      "3 steps  MSE: 0.37666814087616146\n",
      "5 steps  MSE: 0.18515031984216257\n",
      "10 steps MSE: 0.19582955408289307\n"
     ]
    }
   ],
   "source": [
    "print(f\"1 step   MSE: {np.sqrt((exact - simple)**2).mean()}\")\n",
    "print(f\"2 steps  MSE: {np.sqrt((exact - two)**2).mean()}\")\n",
    "print(f\"3 steps  MSE: {np.sqrt((exact - three)**2).mean()}\")\n",
    "print(f\"5 steps  MSE: {np.sqrt((exact - five)**2).mean()}\")\n",
    "print(f\"10 steps MSE: {np.sqrt((exact - ten)**2).mean()}\")"
   ]
  }
 ],
 "metadata": {
  "interpreter": {
   "hash": "4d82f16df23e84b0468fd0427e3a0700627ee7d546b72caa956670c09d44609d"
  },
  "kernelspec": {
   "display_name": "Python 3.10.5 64-bit ('neurouting': conda)",
   "name": "python3"
  },
  "language_info": {
   "codemirror_mode": {
    "name": "ipython",
    "version": 3
   },
   "file_extension": ".py",
   "mimetype": "text/x-python",
   "name": "python",
   "nbconvert_exporter": "python",
   "pygments_lexer": "ipython3",
   "version": "3.10.5"
  },
  "orig_nbformat": 4
 },
 "nbformat": 4,
 "nbformat_minor": 2
}
